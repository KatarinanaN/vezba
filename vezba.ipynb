{
 "cells": [
  {
   "cell_type": "markdown",
   "id": "40b5da96",
   "metadata": {},
   "source": [
    "Učitajte potrebne podatke (vezba.csv koja sadrži dva sheeta) i napravite sledeće grafičke prikaze:\n",
    "\n",
    "\n",
    "Grafikon 1: Kretanje broja osiguranika u Fondu penzijskog i invalidskog osiguranja zaposlenih od 2008-2022. godine\n",
    "\n",
    "\n",
    "Grafikon 2: Kretanje broja korisnika u Fondu penzijskog i invaliskskog osiguranja zaposlenih od 2008-2022. godine\n",
    "\n",
    "\n",
    "NAPRAVITE GRAFIKON KOJI ĆE DA SADRŽI INFORMACIJE O BROJU ŽIVOROĐENIH I UMRLIH,  I PRIRODNOM PRIRAŠTAJU OD 2016-2022. GODINE ILI AKO MISLITE DA ĆE BITI INFORMATIVINIJE DA UKLJUČIMO PO ODABRANIM GODINAMA, TJ. 2000., 2001, 2005., 2012, 2016, 2017, 2018., 2019, 2020., 2021., 2022.\n",
    "\n"
   ]
  },
  {
   "cell_type": "code",
   "execution_count": null,
   "id": "b8907094",
   "metadata": {},
   "outputs": [],
   "source": []
  }
 ],
 "metadata": {
  "kernelspec": {
   "display_name": "Python 3 (ipykernel)",
   "language": "python",
   "name": "python3"
  },
  "language_info": {
   "codemirror_mode": {
    "name": "ipython",
    "version": 3
   },
   "file_extension": ".py",
   "mimetype": "text/x-python",
   "name": "python",
   "nbconvert_exporter": "python",
   "pygments_lexer": "ipython3",
   "version": "3.9.13"
  }
 },
 "nbformat": 4,
 "nbformat_minor": 5
}
